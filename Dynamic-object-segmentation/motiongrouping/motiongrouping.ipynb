{
  "nbformat": 4,
  "nbformat_minor": 5,
  "metadata": {
    "kernelspec": {
      "display_name": "Python 3",
      "language": "python",
      "name": "python3"
    },
    "language_info": {
      "codemirror_mode": {
        "name": "ipython",
        "version": 3
      },
      "file_extension": ".py",
      "mimetype": "text/x-python",
      "name": "python",
      "nbconvert_exporter": "python",
      "pygments_lexer": "ipython3",
      "version": "3.7.9"
    },
    "colab": {
      "name": "motiongrouping.ipynb",
      "provenance": [],
      "toc_visible": true
    }
  },
  "cells": [
    {
      "cell_type": "markdown",
      "metadata": {
        "id": "spiritual-creation"
      },
      "source": [
        "[![Open In Colab](https://colab.research.google.com/assets/colab-badge.svg)](https://colab.research.google.com/github/Javier-T-G/TFM_repo/blob/main/Dynamic-object-segmentation/motiongrouping/motiongrouping.ipynb)"
      ],
      "id": "spiritual-creation"
    },
    {
      "cell_type": "markdown",
      "metadata": {
        "id": "pSj1o9P7Z7RG"
      },
      "source": [
        "# PRUEBA DEL REPO [MOTIONGROUPING](https://github.com/charigyang/motiongrouping)"
      ],
      "id": "pSj1o9P7Z7RG"
    },
    {
      "cell_type": "markdown",
      "metadata": {
        "id": "VeUjPfKe_vjH"
      },
      "source": [
        "## SETUP DE ARCHIVOS/ LIBRERÍAS"
      ],
      "id": "VeUjPfKe_vjH"
    },
    {
      "cell_type": "markdown",
      "metadata": {
        "id": "e9EsqNJgsklO"
      },
      "source": [
        "En caso de que queramos usar Google Drive:"
      ],
      "id": "e9EsqNJgsklO"
    },
    {
      "cell_type": "code",
      "metadata": {
        "id": "M58M12F8sqiL"
      },
      "source": [
        "from google.colab import drive\n",
        "drive.mount('/content/gdrive')"
      ],
      "id": "M58M12F8sqiL",
      "execution_count": null,
      "outputs": []
    },
    {
      "cell_type": "markdown",
      "metadata": {
        "id": "4DtByOVUWwMp"
      },
      "source": [
        "Clonamos el repositorio:"
      ],
      "id": "4DtByOVUWwMp"
    },
    {
      "cell_type": "code",
      "metadata": {
        "id": "p0zeIYKj_i1l"
      },
      "source": [
        "!git clone https://github.com/Javier-T-G/TFM_repo.git"
      ],
      "id": "p0zeIYKj_i1l",
      "execution_count": null,
      "outputs": []
    },
    {
      "cell_type": "markdown",
      "metadata": {
        "id": "POPqvdbSaNYe"
      },
      "source": [
        "Instalamos las librerías necesarias y que no incluye por defecto Google Colab:"
      ],
      "id": "POPqvdbSaNYe"
    },
    {
      "cell_type": "code",
      "metadata": {
        "id": "balanced-acrylic"
      },
      "source": [
        "!pip install cvbase\n",
        "!pip install einops\n",
        "!pip install tensorboardX"
      ],
      "id": "balanced-acrylic",
      "execution_count": null,
      "outputs": []
    },
    {
      "cell_type": "code",
      "metadata": {
        "id": "FoDqRO3NZZlG"
      },
      "source": [
        "# Importamos librerías necesarias\n",
        "import cvbase\n",
        "import einops\n",
        "import tensorboardX\n",
        "import os\n",
        "import glob"
      ],
      "id": "FoDqRO3NZZlG",
      "execution_count": 14,
      "outputs": []
    },
    {
      "cell_type": "markdown",
      "metadata": {
        "id": "wb3DPzCBBra6"
      },
      "source": [
        "## FLUJO ÓPTICO"
      ],
      "id": "wb3DPzCBBra6"
    },
    {
      "cell_type": "markdown",
      "metadata": {
        "id": "GyiJpG8uEQQB"
      },
      "source": [
        "Vamos a intentar llevar a cabo la inferencia haciendo uso de las imágenes contenidas en la carpeta RGBD"
      ],
      "id": "GyiJpG8uEQQB"
    },
    {
      "cell_type": "code",
      "metadata": {
        "id": "mDbtRUXMBv7-"
      },
      "source": [
        "# Ruta del Gdrive en la que está el dataset de OXFORD:\n",
        "path_oxford = 'gdrive/MyDrive/TFM/TFM/Datasets/oxford'"
      ],
      "id": "mDbtRUXMBv7-",
      "execution_count": 34,
      "outputs": []
    },
    {
      "cell_type": "markdown",
      "metadata": {
        "id": "hfBKhdBgYUIk"
      },
      "source": [
        "Celda para **descromprimir** las secuencias del dataset.<br/>\n",
        "Por ahora solo está preparada para una secuencia."
      ],
      "id": "hfBKhdBgYUIk"
    },
    {
      "cell_type": "code",
      "metadata": {
        "colab": {
          "base_uri": "https://localhost:8080/"
        },
        "id": "qNVIsPWOEmBN",
        "outputId": "f2616707-4047-4565-9586-968c529aedb0"
      },
      "source": [
        "# Ruta hacia los archivos sin descomprimir de la carpeta rgbd:\n",
        "path_rgbd_comp  = path_oxford + '/swinging_4_static/rgbd.tgz'\n",
        "# Carpeta donde los descomprimiremos:\n",
        "path_rgbd_descomp = path_oxford + '/swinging_4_static/rgbd'\n",
        "\n",
        "# Comprobamos si existe la carpeta:\n",
        "if os.path.isdir(path_rgbd_descomp):\n",
        "  # Si está vacía, entonces procedemos a descromprimir:\n",
        "  if not any(os.scandir(path_rgbd_descomp)):\n",
        "    # Descomprimimos el archivo en la carpeta anterior:\n",
        "    !tar xvf $path_rgbd_comp -C $path_rgbd_descomp\n",
        "  else:\n",
        "    print('La carpeta no está vacía! Igual ya se han descomprimido antes')\n",
        "else:\n",
        "  #Si no existe la carpeta la creamos, y descomprimimos:\n",
        "  os.mkdir(path_rgbd_descomp)\n",
        "  !tar xvf $path_rgbd_comp -C $path_rgbd_descomp"
      ],
      "id": "qNVIsPWOEmBN",
      "execution_count": 35,
      "outputs": [
        {
          "output_type": "stream",
          "text": [
            "La carpeta no está vacía! Igual ya se han descomprimido antes\n"
          ],
          "name": "stdout"
        }
      ]
    },
    {
      "cell_type": "code",
      "metadata": {
        "id": "YG8kS-PdusK4"
      },
      "source": [
        "# Cálculo del flujo óptico de todas las imágenes:\n",
        "python run_inference.py"
      ],
      "id": "YG8kS-PdusK4",
      "execution_count": 33,
      "outputs": []
    },
    {
      "cell_type": "code",
      "metadata": {
        "colab": {
          "base_uri": "https://localhost:8080/",
          "height": 35
        },
        "id": "eprnfaw8edTe",
        "outputId": "49006f5a-e6f2-4dac-c4ae-99a2d4184ad5"
      },
      "source": [
        "a = sorted(glob.glob(os.path.join(path_rgbd_descomp, '*')))\n",
        "a[0]"
      ],
      "id": "eprnfaw8edTe",
      "execution_count": 42,
      "outputs": [
        {
          "output_type": "execute_result",
          "data": {
            "application/vnd.google.colaboratory.intrinsic+json": {
              "type": "string"
            },
            "text/plain": [
              "'gdrive/MyDrive/TFM/TFM/Datasets/oxford/swinging_4_static/rgbd/000000_aligned_depth.png'"
            ]
          },
          "metadata": {
            "tags": []
          },
          "execution_count": 42
        }
      ]
    },
    {
      "cell_type": "code",
      "metadata": {
        "colab": {
          "base_uri": "https://localhost:8080/"
        },
        "id": "e2jKxB76nBr_",
        "outputId": "a7f714a6-2803-47f1-962c-7aeebe2f467a"
      },
      "source": [
        "#glob.glob(os.path.join(path_rgbd_descomp, '*'))\n",
        "a = list(range(5))\n",
        "a[:-2]"
      ],
      "id": "e2jKxB76nBr_",
      "execution_count": 45,
      "outputs": [
        {
          "output_type": "execute_result",
          "data": {
            "text/plain": [
              "[0, 1, 2]"
            ]
          },
          "metadata": {
            "tags": []
          },
          "execution_count": 45
        }
      ]
    },
    {
      "cell_type": "markdown",
      "metadata": {
        "id": "nb-Om50n_4CJ"
      },
      "source": [
        "## INFERENCIA"
      ],
      "id": "nb-Om50n_4CJ"
    },
    {
      "cell_type": "markdown",
      "metadata": {
        "id": "cvgbi1Nu9aHN"
      },
      "source": [
        "Código para llevar a cabo la inferencia.\n",
        "En el repo, los autores dicen de usar:\n",
        "```python\n",
        "python eval.py --dataset DAVIS  --flow_to_rgb --inference --resume_path {}\n",
        "```\n",
        "\n",
        "**Cambios** realizados:\n",
        "* En el propio eval.py, ```inference``` es puesto manualmente como ```True``` $\\to$ no necesitamos poner: ```--inference```.\n",
        "* No estamos haciendo *fine-tuning* de los parámetros $\\to$ No añadimos ```--resume_path {}```\n",
        "\n"
      ],
      "id": "cvgbi1Nu9aHN"
    },
    {
      "cell_type": "code",
      "metadata": {
        "id": "mCcCITrIf_99"
      },
      "source": [
        "!python motiongrouping/src/eval.py --dataset DAVIS  --flow_to_rgb"
      ],
      "id": "mCcCITrIf_99",
      "execution_count": null,
      "outputs": []
    },
    {
      "cell_type": "code",
      "metadata": {
        "id": "H12hV6TN9Jl4"
      },
      "source": [
        ""
      ],
      "id": "H12hV6TN9Jl4",
      "execution_count": null,
      "outputs": []
    },
    {
      "cell_type": "code",
      "metadata": {
        "id": "PF9dt0sU9Ki5"
      },
      "source": [
        ""
      ],
      "id": "PF9dt0sU9Ki5",
      "execution_count": null,
      "outputs": []
    },
    {
      "cell_type": "code",
      "metadata": {
        "id": "YmZtwPeq9LQh"
      },
      "source": [
        ""
      ],
      "id": "YmZtwPeq9LQh",
      "execution_count": null,
      "outputs": []
    },
    {
      "cell_type": "code",
      "metadata": {
        "id": "0hNmnNHu9LhK"
      },
      "source": [
        ""
      ],
      "id": "0hNmnNHu9LhK",
      "execution_count": null,
      "outputs": []
    },
    {
      "cell_type": "code",
      "metadata": {
        "id": "7Jkpd9Yz9Lux"
      },
      "source": [
        ""
      ],
      "id": "7Jkpd9Yz9Lux",
      "execution_count": null,
      "outputs": []
    },
    {
      "cell_type": "code",
      "metadata": {
        "id": "fOLjSOG79MA9"
      },
      "source": [
        ""
      ],
      "id": "fOLjSOG79MA9",
      "execution_count": null,
      "outputs": []
    },
    {
      "cell_type": "markdown",
      "metadata": {
        "id": "frcOeN7x9M05"
      },
      "source": [
        "## TROZOS DE CÓDIGO AUXILIARES (por aprendizaje y demás)"
      ],
      "id": "frcOeN7x9M05"
    },
    {
      "cell_type": "markdown",
      "metadata": {
        "id": "lYo-04CV9NHb"
      },
      "source": [
        "Para verificar que se está usando GPU (o CUDA):"
      ],
      "id": "lYo-04CV9NHb"
    },
    {
      "cell_type": "code",
      "metadata": {
        "id": "MW9jQMVxE_Lo",
        "colab": {
          "base_uri": "https://localhost:8080/"
        },
        "outputId": "9517296b-44d8-4b1f-c51f-ee50ed6a2a96"
      },
      "source": [
        "!nvidia-smi\n",
        "import torch\n",
        "torch.cuda.is_available()"
      ],
      "id": "MW9jQMVxE_Lo",
      "execution_count": null,
      "outputs": [
        {
          "output_type": "stream",
          "text": [
            "Sat May 22 21:57:02 2021       \n",
            "+-----------------------------------------------------------------------------+\n",
            "| NVIDIA-SMI 465.19.01    Driver Version: 460.32.03    CUDA Version: 11.2     |\n",
            "|-------------------------------+----------------------+----------------------+\n",
            "| GPU  Name        Persistence-M| Bus-Id        Disp.A | Volatile Uncorr. ECC |\n",
            "| Fan  Temp  Perf  Pwr:Usage/Cap|         Memory-Usage | GPU-Util  Compute M. |\n",
            "|                               |                      |               MIG M. |\n",
            "|===============================+======================+======================|\n",
            "|   0  Tesla T4            Off  | 00000000:00:04.0 Off |                    0 |\n",
            "| N/A   42C    P8     9W /  70W |      0MiB / 15109MiB |      0%      Default |\n",
            "|                               |                      |                  N/A |\n",
            "+-------------------------------+----------------------+----------------------+\n",
            "                                                                               \n",
            "+-----------------------------------------------------------------------------+\n",
            "| Processes:                                                                  |\n",
            "|  GPU   GI   CI        PID   Type   Process name                  GPU Memory |\n",
            "|        ID   ID                                                   Usage      |\n",
            "|=============================================================================|\n",
            "|  No running processes found                                                 |\n",
            "+-----------------------------------------------------------------------------+\n"
          ],
          "name": "stdout"
        },
        {
          "output_type": "execute_result",
          "data": {
            "text/plain": [
              "True"
            ]
          },
          "metadata": {
            "tags": []
          },
          "execution_count": 16
        }
      ]
    },
    {
      "cell_type": "markdown",
      "metadata": {
        "id": "qip0MV2yZA6C"
      },
      "source": [
        "Ejemplo de uso de argparse para entender como funciona"
      ],
      "id": "qip0MV2yZA6C"
    },
    {
      "cell_type": "code",
      "metadata": {
        "colab": {
          "base_uri": "https://localhost:8080/"
        },
        "id": "rdYhqo3ki2hY",
        "outputId": "634b4004-d139-4cf2-e858-6732eba821f5"
      },
      "source": [
        "import math\n",
        "import argparse\n",
        "\n",
        "def volume(radius, height):\n",
        "  vol = height - radius\n",
        "  return vol\n",
        "\n",
        "parser = argparse.ArgumentParser(description='hola')\n",
        "parser.add_argument('-r','--radius', type=int, default=2, help='Radius of Cylinder')\n",
        "parser.add_argument('-H','--height', type=int, default=1, help='Height of Cylinder')\n",
        "args = parser.parse_args(['--radius', '3'])\n",
        "\n",
        "volume(args.radius, args.height)\n",
        "\n"
      ],
      "id": "rdYhqo3ki2hY",
      "execution_count": null,
      "outputs": [
        {
          "output_type": "execute_result",
          "data": {
            "text/plain": [
              "-2"
            ]
          },
          "metadata": {
            "tags": []
          },
          "execution_count": 9
        }
      ]
    },
    {
      "cell_type": "code",
      "metadata": {
        "id": "ZdnufJ-Y2Ebs",
        "colab": {
          "base_uri": "https://localhost:8080/"
        },
        "outputId": "64b6ce02-6833-4b6e-d234-62ecfa3de3d0"
      },
      "source": [
        "!conda create --name raft"
      ],
      "id": "ZdnufJ-Y2Ebs",
      "execution_count": 4,
      "outputs": [
        {
          "output_type": "stream",
          "text": [
            "/bin/bash: conda: command not found\n"
          ],
          "name": "stdout"
        }
      ]
    },
    {
      "cell_type": "code",
      "metadata": {
        "id": "MPu_NvS3P6lA"
      },
      "source": [
        ""
      ],
      "id": "MPu_NvS3P6lA",
      "execution_count": null,
      "outputs": []
    }
  ]
}