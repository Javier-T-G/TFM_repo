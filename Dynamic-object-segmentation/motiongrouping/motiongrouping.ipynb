{
  "nbformat": 4,
  "nbformat_minor": 5,
  "metadata": {
    "kernelspec": {
      "display_name": "Python 3",
      "language": "python",
      "name": "python3"
    },
    "language_info": {
      "codemirror_mode": {
        "name": "ipython",
        "version": 3
      },
      "file_extension": ".py",
      "mimetype": "text/x-python",
      "name": "python",
      "nbconvert_exporter": "python",
      "pygments_lexer": "ipython3",
      "version": "3.7.9"
    },
    "colab": {
      "name": "motiongrouping.ipynb",
      "provenance": []
    },
    "accelerator": "GPU"
  },
  "cells": [
    {
      "cell_type": "markdown",
      "metadata": {
        "id": "spiritual-creation"
      },
      "source": [
        "[![Open In Colab](https://colab.research.google.com/assets/colab-badge.svg)](https://colab.research.google.com/github/Javier-T-G/TFM_repo/blob/main/Dynamic-object-segmentation/motiongrouping/motiongrouping.ipynb)"
      ],
      "id": "spiritual-creation"
    },
    {
      "cell_type": "markdown",
      "metadata": {
        "id": "pSj1o9P7Z7RG"
      },
      "source": [
        "# PRUEBA DEL REPO [MOTIONGROUPING](https://github.com/charigyang/motiongrouping)"
      ],
      "id": "pSj1o9P7Z7RG"
    },
    {
      "cell_type": "markdown",
      "metadata": {
        "id": "VeUjPfKe_vjH"
      },
      "source": [
        "## SETUP DE ARCHIVOS/ LIBRERÍAS"
      ],
      "id": "VeUjPfKe_vjH"
    },
    {
      "cell_type": "markdown",
      "metadata": {
        "id": "e9EsqNJgsklO"
      },
      "source": [
        "En caso de que queramos usar Google Drive:"
      ],
      "id": "e9EsqNJgsklO"
    },
    {
      "cell_type": "code",
      "metadata": {
        "id": "M58M12F8sqiL"
      },
      "source": [
        "from google.colab import drive\n",
        "drive.mount('/content/gdrive')"
      ],
      "id": "M58M12F8sqiL",
      "execution_count": null,
      "outputs": []
    },
    {
      "cell_type": "markdown",
      "metadata": {
        "id": "4DtByOVUWwMp"
      },
      "source": [
        "Clonamos el repositorio:"
      ],
      "id": "4DtByOVUWwMp"
    },
    {
      "cell_type": "code",
      "metadata": {
        "colab": {
          "base_uri": "https://localhost:8080/"
        },
        "id": "p0zeIYKj_i1l",
        "outputId": "3dd674e6-b2e4-4d60-d845-625639ee6c4f"
      },
      "source": [
        "!git clone https://github.com/charigyang/motiongrouping.git"
      ],
      "id": "p0zeIYKj_i1l",
      "execution_count": null,
      "outputs": [
        {
          "output_type": "stream",
          "text": [
            "Cloning into 'motiongrouping'...\n",
            "remote: Enumerating objects: 83, done.\u001b[K\n",
            "remote: Counting objects: 100% (1/1), done.\u001b[K\n",
            "remote: Total 83 (delta 0), reused 0 (delta 0), pack-reused 82\u001b[K\n",
            "Unpacking objects: 100% (83/83), done.\n",
            "Checking out files: 100% (46/46), done.\n"
          ],
          "name": "stdout"
        }
      ]
    },
    {
      "cell_type": "markdown",
      "metadata": {
        "id": "POPqvdbSaNYe"
      },
      "source": [
        "Instalamos las librerías necesarias y que no incluye por defecto Google Colab:"
      ],
      "id": "POPqvdbSaNYe"
    },
    {
      "cell_type": "code",
      "metadata": {
        "id": "balanced-acrylic",
        "colab": {
          "base_uri": "https://localhost:8080/"
        },
        "outputId": "03a97aba-e673-49ac-9425-034cb3f30433"
      },
      "source": [
        "!pip install cvbase\n",
        "!pip install einops\n",
        "!pip install tensorboardX"
      ],
      "id": "balanced-acrylic",
      "execution_count": null,
      "outputs": [
        {
          "output_type": "stream",
          "text": [
            "Collecting cvbase\n",
            "\u001b[?25l  Downloading https://files.pythonhosted.org/packages/74/08/551f262dd4535424b19723f686b84ac30b436d996191f90de42d739db64c/cvbase-0.5.5-py2.py3-none-any.whl (45kB)\n",
            "\r\u001b[K     |███████▏                        | 10kB 21.8MB/s eta 0:00:01\r\u001b[K     |██████████████▍                 | 20kB 29.3MB/s eta 0:00:01\r\u001b[K     |█████████████████████▋          | 30kB 22.4MB/s eta 0:00:01\r\u001b[K     |████████████████████████████▉   | 40kB 25.1MB/s eta 0:00:01\r\u001b[K     |████████████████████████████████| 51kB 6.9MB/s \n",
            "\u001b[?25hRequirement already satisfied: pyyaml in /usr/local/lib/python3.7/dist-packages (from cvbase) (3.13)\n",
            "Requirement already satisfied: numpy>=1.11.1 in /usr/local/lib/python3.7/dist-packages (from cvbase) (1.19.5)\n",
            "Requirement already satisfied: six in /usr/local/lib/python3.7/dist-packages (from cvbase) (1.15.0)\n",
            "Collecting terminaltables\n",
            "  Downloading https://files.pythonhosted.org/packages/9b/c4/4a21174f32f8a7e1104798c445dacdc1d4df86f2f26722767034e4de4bff/terminaltables-3.1.0.tar.gz\n",
            "Building wheels for collected packages: terminaltables\n",
            "  Building wheel for terminaltables (setup.py) ... \u001b[?25l\u001b[?25hdone\n",
            "  Created wheel for terminaltables: filename=terminaltables-3.1.0-cp37-none-any.whl size=15356 sha256=c034521f0e6b5a6bee5e85d2bba75b895df810ff70463b6953943714b71472c5\n",
            "  Stored in directory: /root/.cache/pip/wheels/30/6b/50/6c75775b681fb36cdfac7f19799888ef9d8813aff9e379663e\n",
            "Successfully built terminaltables\n",
            "Installing collected packages: terminaltables, cvbase\n",
            "Successfully installed cvbase-0.5.5 terminaltables-3.1.0\n",
            "Collecting einops\n",
            "  Downloading https://files.pythonhosted.org/packages/5d/a0/9935e030634bf60ecd572c775f64ace82ceddf2f504a5fd3902438f07090/einops-0.3.0-py2.py3-none-any.whl\n",
            "Installing collected packages: einops\n",
            "Successfully installed einops-0.3.0\n",
            "Collecting tensorboardX\n",
            "\u001b[?25l  Downloading https://files.pythonhosted.org/packages/07/84/46421bd3e0e89a92682b1a38b40efc22dafb6d8e3d947e4ceefd4a5fabc7/tensorboardX-2.2-py2.py3-none-any.whl (120kB)\n",
            "\u001b[K     |████████████████████████████████| 122kB 26.1MB/s \n",
            "\u001b[?25hRequirement already satisfied: numpy in /usr/local/lib/python3.7/dist-packages (from tensorboardX) (1.19.5)\n",
            "Requirement already satisfied: protobuf>=3.8.0 in /usr/local/lib/python3.7/dist-packages (from tensorboardX) (3.12.4)\n",
            "Requirement already satisfied: six>=1.9 in /usr/local/lib/python3.7/dist-packages (from protobuf>=3.8.0->tensorboardX) (1.15.0)\n",
            "Requirement already satisfied: setuptools in /usr/local/lib/python3.7/dist-packages (from protobuf>=3.8.0->tensorboardX) (56.1.0)\n",
            "Installing collected packages: tensorboardX\n",
            "Successfully installed tensorboardX-2.2\n"
          ],
          "name": "stdout"
        }
      ]
    },
    {
      "cell_type": "markdown",
      "metadata": {
        "id": "nb-Om50n_4CJ"
      },
      "source": [
        "## INFERENCIA"
      ],
      "id": "nb-Om50n_4CJ"
    },
    {
      "cell_type": "markdown",
      "metadata": {
        "id": "cvgbi1Nu9aHN"
      },
      "source": [
        "Código para llevar a cabo la inferencia.\n",
        "En el repo, los autores dicen de usar:\n",
        "```python\n",
        "python eval.py --dataset DAVIS  --flow_to_rgb --inference --resume_path {}\n",
        "```\n",
        "\n",
        "**Cambios** realizados:\n",
        "* En el propio eval.py, ```inference``` es puesto manualmente como ```True``` $\\to$ no necesitamos poner: ```--inference```.\n",
        "* No estamos haciendo *fine-tuning* de los parámetros $\\to$ No añadimos ```--resume_path {}```\n",
        "\n"
      ],
      "id": "cvgbi1Nu9aHN"
    },
    {
      "cell_type": "code",
      "metadata": {
        "id": "mCcCITrIf_99"
      },
      "source": [
        "!python motiongrouping/src/eval.py --dataset DAVIS  --flow_to_rgb"
      ],
      "id": "mCcCITrIf_99",
      "execution_count": null,
      "outputs": []
    },
    {
      "cell_type": "code",
      "metadata": {
        "id": "H12hV6TN9Jl4"
      },
      "source": [
        ""
      ],
      "id": "H12hV6TN9Jl4",
      "execution_count": null,
      "outputs": []
    },
    {
      "cell_type": "code",
      "metadata": {
        "id": "PF9dt0sU9Ki5"
      },
      "source": [
        ""
      ],
      "id": "PF9dt0sU9Ki5",
      "execution_count": null,
      "outputs": []
    },
    {
      "cell_type": "code",
      "metadata": {
        "id": "YmZtwPeq9LQh"
      },
      "source": [
        ""
      ],
      "id": "YmZtwPeq9LQh",
      "execution_count": null,
      "outputs": []
    },
    {
      "cell_type": "code",
      "metadata": {
        "id": "0hNmnNHu9LhK"
      },
      "source": [
        ""
      ],
      "id": "0hNmnNHu9LhK",
      "execution_count": null,
      "outputs": []
    },
    {
      "cell_type": "code",
      "metadata": {
        "id": "7Jkpd9Yz9Lux"
      },
      "source": [
        ""
      ],
      "id": "7Jkpd9Yz9Lux",
      "execution_count": null,
      "outputs": []
    },
    {
      "cell_type": "code",
      "metadata": {
        "id": "fOLjSOG79MA9"
      },
      "source": [
        ""
      ],
      "id": "fOLjSOG79MA9",
      "execution_count": null,
      "outputs": []
    },
    {
      "cell_type": "markdown",
      "metadata": {
        "id": "frcOeN7x9M05"
      },
      "source": [
        "## TROZOS DE CÓDIGO AUXILIARES (por aprendizaje y demás)"
      ],
      "id": "frcOeN7x9M05"
    },
    {
      "cell_type": "markdown",
      "metadata": {
        "id": "lYo-04CV9NHb"
      },
      "source": [
        "Para verificar que se está usando GPU (o CUDA):"
      ],
      "id": "lYo-04CV9NHb"
    },
    {
      "cell_type": "code",
      "metadata": {
        "id": "MW9jQMVxE_Lo",
        "colab": {
          "base_uri": "https://localhost:8080/"
        },
        "outputId": "9517296b-44d8-4b1f-c51f-ee50ed6a2a96"
      },
      "source": [
        "!nvidia-smi\n",
        "import torch\n",
        "torch.cuda.is_available()"
      ],
      "id": "MW9jQMVxE_Lo",
      "execution_count": null,
      "outputs": [
        {
          "output_type": "stream",
          "text": [
            "Sat May 22 21:57:02 2021       \n",
            "+-----------------------------------------------------------------------------+\n",
            "| NVIDIA-SMI 465.19.01    Driver Version: 460.32.03    CUDA Version: 11.2     |\n",
            "|-------------------------------+----------------------+----------------------+\n",
            "| GPU  Name        Persistence-M| Bus-Id        Disp.A | Volatile Uncorr. ECC |\n",
            "| Fan  Temp  Perf  Pwr:Usage/Cap|         Memory-Usage | GPU-Util  Compute M. |\n",
            "|                               |                      |               MIG M. |\n",
            "|===============================+======================+======================|\n",
            "|   0  Tesla T4            Off  | 00000000:00:04.0 Off |                    0 |\n",
            "| N/A   42C    P8     9W /  70W |      0MiB / 15109MiB |      0%      Default |\n",
            "|                               |                      |                  N/A |\n",
            "+-------------------------------+----------------------+----------------------+\n",
            "                                                                               \n",
            "+-----------------------------------------------------------------------------+\n",
            "| Processes:                                                                  |\n",
            "|  GPU   GI   CI        PID   Type   Process name                  GPU Memory |\n",
            "|        ID   ID                                                   Usage      |\n",
            "|=============================================================================|\n",
            "|  No running processes found                                                 |\n",
            "+-----------------------------------------------------------------------------+\n"
          ],
          "name": "stdout"
        },
        {
          "output_type": "execute_result",
          "data": {
            "text/plain": [
              "True"
            ]
          },
          "metadata": {
            "tags": []
          },
          "execution_count": 16
        }
      ]
    },
    {
      "cell_type": "markdown",
      "metadata": {
        "id": "qip0MV2yZA6C"
      },
      "source": [
        "Ejemplo de uso de argparse para entender como funciona"
      ],
      "id": "qip0MV2yZA6C"
    },
    {
      "cell_type": "code",
      "metadata": {
        "colab": {
          "base_uri": "https://localhost:8080/"
        },
        "id": "rdYhqo3ki2hY",
        "outputId": "634b4004-d139-4cf2-e858-6732eba821f5"
      },
      "source": [
        "import math\n",
        "import argparse\n",
        "\n",
        "def volume(radius, height):\n",
        "  vol = height - radius\n",
        "  return vol\n",
        "\n",
        "parser = argparse.ArgumentParser(description='hola')\n",
        "parser.add_argument('-r','--radius', type=int, default=2, help='Radius of Cylinder')\n",
        "parser.add_argument('-H','--height', type=int, default=1, help='Height of Cylinder')\n",
        "args = parser.parse_args(['--radius', '3'])\n",
        "\n",
        "volume(args.radius, args.height)\n",
        "\n"
      ],
      "id": "rdYhqo3ki2hY",
      "execution_count": null,
      "outputs": [
        {
          "output_type": "execute_result",
          "data": {
            "text/plain": [
              "-2"
            ]
          },
          "metadata": {
            "tags": []
          },
          "execution_count": 9
        }
      ]
    },
    {
      "cell_type": "code",
      "metadata": {
        "id": "ZdnufJ-Y2Ebs"
      },
      "source": [
        ""
      ],
      "id": "ZdnufJ-Y2Ebs",
      "execution_count": null,
      "outputs": []
    }
  ]
}