{
  "nbformat": 4,
  "nbformat_minor": 5,
  "metadata": {
    "kernelspec": {
      "display_name": "Python 3",
      "language": "python",
      "name": "python3"
    },
    "language_info": {
      "codemirror_mode": {
        "name": "ipython",
        "version": 3
      },
      "file_extension": ".py",
      "mimetype": "text/x-python",
      "name": "python",
      "nbconvert_exporter": "python",
      "pygments_lexer": "ipython3",
      "version": "3.7.9"
    },
    "colab": {
      "name": "motiongrouping_flow.ipynb",
      "provenance": [],
      "toc_visible": true
    },
    "accelerator": "GPU"
  },
  "cells": [
    {
      "cell_type": "markdown",
      "metadata": {
        "id": "exotic-grace"
      },
      "source": [
        "[![Open In Colab](https://colab.research.google.com/assets/colab-badge.svg)](https://colab.research.google.com/github/Javier-T-G/TFM_repo/blob/main/Dynamic-object-segmentation/motiongrouping/motiongrouping_flow.ipynb)"
      ],
      "id": "exotic-grace"
    },
    {
      "cell_type": "markdown",
      "metadata": {
        "id": "kZaIbAO4fDK9"
      },
      "source": [
        "# CÁLCULO DEL FLUJO ÓPTICO NECESARIO PARA [MOTIONGROUPING](https://github.com/charigyang/motiongrouping)"
      ],
      "id": "kZaIbAO4fDK9"
    },
    {
      "cell_type": "markdown",
      "metadata": {
        "id": "K8wioKfUfnEU"
      },
      "source": [
        "## SETUP DE ARCHIVOS/ LIBRERÍAS"
      ],
      "id": "K8wioKfUfnEU"
    },
    {
      "cell_type": "code",
      "metadata": {
        "id": "P-T0mS6afqXU",
        "outputId": "e2c0b08c-1c98-475f-f539-0f57b790a581",
        "colab": {
          "base_uri": "https://localhost:8080/"
        }
      },
      "source": [
        "from google.colab import drive\n",
        "drive.mount('/content/gdrive')"
      ],
      "id": "P-T0mS6afqXU",
      "execution_count": 1,
      "outputs": [
        {
          "output_type": "stream",
          "text": [
            "Mounted at /content/gdrive\n"
          ],
          "name": "stdout"
        }
      ]
    },
    {
      "cell_type": "markdown",
      "metadata": {
        "id": "r9Mw-0w8fs7Q"
      },
      "source": [
        "Clonamos el repositorio del TFM"
      ],
      "id": "r9Mw-0w8fs7Q"
    },
    {
      "cell_type": "code",
      "metadata": {
        "id": "eBYnabvIf3S6",
        "outputId": "e3f3dba8-61f1-4e1c-fd08-617c99a0c342",
        "colab": {
          "base_uri": "https://localhost:8080/"
        }
      },
      "source": [
        "!git clone https://github.com/Javier-T-G/TFM_repo.git"
      ],
      "id": "eBYnabvIf3S6",
      "execution_count": 2,
      "outputs": [
        {
          "output_type": "stream",
          "text": [
            "Cloning into 'TFM_repo'...\n",
            "remote: Enumerating objects: 97, done.\u001b[K\n",
            "remote: Counting objects: 100% (42/42), done.\u001b[K\n",
            "remote: Compressing objects: 100% (30/30), done.\u001b[K\n",
            "remote: Total 97 (delta 11), reused 34 (delta 5), pack-reused 55\u001b[K\n",
            "Unpacking objects: 100% (97/97), done.\n",
            "Checking out files: 100% (51/51), done.\n"
          ],
          "name": "stdout"
        }
      ]
    },
    {
      "cell_type": "markdown",
      "metadata": {
        "id": "INOM9HIEgaYc"
      },
      "source": [
        "Según las [indicaciones del repositorio de motiongrouping](https://github.com/charigyang/motiongrouping/tree/main/raft), instalamos las siguientes librerías:"
      ],
      "id": "INOM9HIEgaYc"
    },
    {
      "cell_type": "code",
      "metadata": {
        "id": "-dNpo1I5gygZ",
        "outputId": "1e98ece3-14d9-44e4-9868-a88368e613de",
        "colab": {
          "base_uri": "https://localhost:8080/"
        }
      },
      "source": [
        "!pip install torch==1.6.0 torchvision==0.7.0"
      ],
      "id": "-dNpo1I5gygZ",
      "execution_count": 11,
      "outputs": [
        {
          "output_type": "stream",
          "text": [
            "Collecting torch==1.6.0\n",
            "  Using cached https://files.pythonhosted.org/packages/5d/5e/35140615fc1f925023f489e71086a9ecc188053d263d3594237281284d82/torch-1.6.0-cp37-cp37m-manylinux1_x86_64.whl\n",
            "Collecting torchvision==0.7.0\n",
            "  Using cached https://files.pythonhosted.org/packages/4d/b5/60d5eb61f1880707a5749fea43e0ec76f27dfe69391cdec953ab5da5e676/torchvision-0.7.0-cp37-cp37m-manylinux1_x86_64.whl\n",
            "Requirement already satisfied: future in /usr/local/lib/python3.7/dist-packages (from torch==1.6.0) (0.16.0)\n",
            "Requirement already satisfied: numpy in /usr/local/lib/python3.7/dist-packages (from torch==1.6.0) (1.19.5)\n",
            "Requirement already satisfied: pillow>=4.1.1 in /usr/local/lib/python3.7/dist-packages (from torchvision==0.7.0) (7.1.2)\n",
            "\u001b[31mERROR: torchtext 0.9.1 has requirement torch==1.8.1, but you'll have torch 1.6.0 which is incompatible.\u001b[0m\n",
            "Installing collected packages: torch, torchvision\n",
            "  Found existing installation: torch 1.8.1+cu101\n",
            "    Uninstalling torch-1.8.1+cu101:\n",
            "      Successfully uninstalled torch-1.8.1+cu101\n",
            "  Found existing installation: torchvision 0.9.1+cu101\n",
            "    Uninstalling torchvision-0.9.1+cu101:\n",
            "      Successfully uninstalled torchvision-0.9.1+cu101\n",
            "Successfully installed torch-1.6.0 torchvision-0.7.0\n"
          ],
          "name": "stdout"
        }
      ]
    },
    {
      "cell_type": "markdown",
      "metadata": {
        "id": "0EXO75HOf2uJ"
      },
      "source": [
        "## FLUJO ÓPTICO"
      ],
      "id": "0EXO75HOf2uJ"
    },
    {
      "cell_type": "markdown",
      "metadata": {
        "id": "GyiJpG8uEQQB"
      },
      "source": [
        "Vamos a intentar llevar a cabo la inferencia haciendo uso de las imágenes contenidas en la carpeta RGBD"
      ],
      "id": "GyiJpG8uEQQB"
    },
    {
      "cell_type": "code",
      "metadata": {
        "id": "mDbtRUXMBv7-"
      },
      "source": [
        "# Ruta del Gdrive en la que está el dataset de OXFORD:\n",
        "path_oxford = 'gdrive/MyDrive/TFM/TFM/Datasets/oxford'"
      ],
      "id": "mDbtRUXMBv7-",
      "execution_count": 3,
      "outputs": []
    },
    {
      "cell_type": "markdown",
      "metadata": {
        "id": "hfBKhdBgYUIk"
      },
      "source": [
        "Celda para **descromprimir** las secuencias del dataset.<br/>\n",
        "Por ahora solo está preparada para una secuencia."
      ],
      "id": "hfBKhdBgYUIk"
    },
    {
      "cell_type": "code",
      "metadata": {
        "colab": {
          "base_uri": "https://localhost:8080/"
        },
        "id": "qNVIsPWOEmBN",
        "outputId": "f2616707-4047-4565-9586-968c529aedb0"
      },
      "source": [
        "# Ruta hacia los archivos sin descomprimir de la carpeta rgbd:\n",
        "path_rgbd_comp  = path_oxford + '/swinging_4_static/rgbd.tgz'\n",
        "# Carpeta donde los descomprimiremos:\n",
        "path_rgbd_descomp = path_oxford + '/swinging_4_static/rgbd'\n",
        "\n",
        "# Comprobamos si existe la carpeta:\n",
        "if os.path.isdir(path_rgbd_descomp):\n",
        "  # Si está vacía, entonces procedemos a descromprimir:\n",
        "  if not any(os.scandir(path_rgbd_descomp)):\n",
        "    # Descomprimimos el archivo en la carpeta anterior:\n",
        "    !tar xvf $path_rgbd_comp -C $path_rgbd_descomp\n",
        "  else:\n",
        "    print('La carpeta no está vacía! Igual ya se han descomprimido antes')\n",
        "else:\n",
        "  #Si no existe la carpeta la creamos, y descomprimimos:\n",
        "  os.mkdir(path_rgbd_descomp)\n",
        "  !tar xvf $path_rgbd_comp -C $path_rgbd_descomp"
      ],
      "id": "qNVIsPWOEmBN",
      "execution_count": null,
      "outputs": [
        {
          "output_type": "stream",
          "text": [
            "La carpeta no está vacía! Igual ya se han descomprimido antes\n"
          ],
          "name": "stdout"
        }
      ]
    },
    {
      "cell_type": "code",
      "metadata": {
        "id": "YG8kS-PdusK4"
      },
      "source": [
        "# Cálculo del flujo óptico de todas las imágenes:\n",
        "python run_inference.py"
      ],
      "id": "YG8kS-PdusK4",
      "execution_count": null,
      "outputs": []
    },
    {
      "cell_type": "code",
      "metadata": {
        "id": "eprnfaw8edTe",
        "colab": {
          "base_uri": "https://localhost:8080/",
          "height": 35
        },
        "outputId": "49006f5a-e6f2-4dac-c4ae-99a2d4184ad5"
      },
      "source": [
        "a = sorted(glob.glob(os.path.join(path_rgbd_descomp, '*')))\n",
        "a[0]"
      ],
      "id": "eprnfaw8edTe",
      "execution_count": null,
      "outputs": [
        {
          "output_type": "execute_result",
          "data": {
            "application/vnd.google.colaboratory.intrinsic+json": {
              "type": "string"
            },
            "text/plain": [
              "'gdrive/MyDrive/TFM/TFM/Datasets/oxford/swinging_4_static/rgbd/000000_aligned_depth.png'"
            ]
          },
          "metadata": {
            "tags": []
          },
          "execution_count": 42
        }
      ]
    },
    {
      "cell_type": "code",
      "metadata": {
        "id": "e2jKxB76nBr_",
        "colab": {
          "base_uri": "https://localhost:8080/"
        },
        "outputId": "a7f714a6-2803-47f1-962c-7aeebe2f467a"
      },
      "source": [
        "#glob.glob(os.path.join(path_rgbd_descomp, '*'))\n",
        "a = list(range(5))\n",
        "a[:-2]"
      ],
      "id": "e2jKxB76nBr_",
      "execution_count": null,
      "outputs": [
        {
          "output_type": "execute_result",
          "data": {
            "text/plain": [
              "[0, 1, 2]"
            ]
          },
          "metadata": {
            "tags": []
          },
          "execution_count": 45
        }
      ]
    },
    {
      "cell_type": "code",
      "metadata": {
        "id": "yOpN_4OlgJvT",
        "outputId": "fe76f298-0145-4484-d052-faf434c63933",
        "colab": {
          "base_uri": "https://localhost:8080/"
        }
      },
      "source": [
        "!conda update conda -y -q\n",
        "!source /usr/local/etc/profile.d/conda.sh\n",
        "!conda init \n",
        "!conda install -n root _license -y -q"
      ],
      "id": "yOpN_4OlgJvT",
      "execution_count": 5,
      "outputs": [
        {
          "output_type": "stream",
          "text": [
            "/bin/bash: conda: command not found\n",
            "/bin/bash: /usr/local/etc/profile.d/conda.sh: No such file or directory\n",
            "/bin/bash: conda: command not found\n",
            "/bin/bash: conda: command not found\n"
          ],
          "name": "stdout"
        }
      ]
    },
    {
      "cell_type": "code",
      "metadata": {
        "id": "nM-6lpTTC5Am"
      },
      "source": [
        "!nvcc --version"
      ],
      "id": "nM-6lpTTC5Am",
      "execution_count": null,
      "outputs": []
    },
    {
      "cell_type": "code",
      "metadata": {
        "id": "i5bnr68NPQE8"
      },
      "source": [
        ""
      ],
      "id": "i5bnr68NPQE8",
      "execution_count": null,
      "outputs": []
    }
  ]
}